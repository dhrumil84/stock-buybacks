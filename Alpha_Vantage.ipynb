{
  "nbformat": 4,
  "nbformat_minor": 0,
  "metadata": {
    "colab": {
      "provenance": [],
      "authorship_tag": "ABX9TyO1CCCNb8PsOY8kYG3oAr3h",
      "include_colab_link": true
    },
    "kernelspec": {
      "name": "python3",
      "display_name": "Python 3"
    },
    "language_info": {
      "name": "python"
    }
  },
  "cells": [
    {
      "cell_type": "markdown",
      "metadata": {
        "id": "view-in-github",
        "colab_type": "text"
      },
      "source": [
        "<a href=\"https://colab.research.google.com/github/dhrumil84/stock-buybacks/blob/master/Alpha_Vantage.ipynb\" target=\"_parent\"><img src=\"https://colab.research.google.com/assets/colab-badge.svg\" alt=\"Open In Colab\"/></a>"
      ]
    },
    {
      "cell_type": "code",
      "source": [
        "import requests\n",
        "import pandas as pd\n",
        "\n",
        "from datetime import date\n",
        "from datetime import datetime, timedelta \n",
        "\n",
        "import matplotlib.pyplot as plt\n",
        "\n",
        "from google.colab import data_table\n",
        "#from vega_datasets import data\n",
        "\n",
        "data_table.enable_dataframe_formatter()\n",
        "\n",
        "#data.airports()"
      ],
      "metadata": {
        "id": "kvTofYTqHzEh"
      },
      "execution_count": 47,
      "outputs": []
    },
    {
      "cell_type": "code",
      "source": [
        "import sqlite3\n",
        "from sqlite3 import Error"
      ],
      "metadata": {
        "id": "X6WW8T3prOiB"
      },
      "execution_count": 77,
      "outputs": []
    },
    {
      "cell_type": "code",
      "source": [
        "base_url = 'https://www.alphavantage.co/query?function='\n",
        "\n",
        "key = 'NBRKFN54KGSR3U0J'\n",
        "overview = 'OVERVIEW'\n",
        "tsd = 'TIME_SERIES_DAILY_ADJUSTED'\n",
        "income = 'INCOME_STATEMENT'\n",
        "balance = 'BALANCE_SHEET'\n",
        "cf = 'CASH_FLOW'\n",
        "earnings = 'EARNINGS'\n",
        "earnings_cal = 'EARNINGS_CALENDAR'\n",
        "horizon = '12month'\n",
        "\n",
        "\n",
        "tckr = 'LRCX'"
      ],
      "metadata": {
        "id": "2AnNSr9PRBUV"
      },
      "execution_count": 53,
      "outputs": []
    },
    {
      "cell_type": "code",
      "source": [
        "# Making a GET request\n",
        "overview_r = requests.get(base_url + overview + '&symbol=' + tckr + '&apikey=' + key)\n",
        "tsd_r = requests.get(base_url + tsd + '&symbol=' + tckr + '&outputsize=full&apikey=' + key)\n",
        "income_r = requests.get(base_url + income + '&symbol=' + tckr + '&apikey=' + key)\n",
        "balance_r = requests.get(base_url + balance + '&symbol=' + tckr + '&apikey=' + key)\n",
        "cf_r = requests.get(base_url + cf + '&symbol=' + tckr + '&apikey=' + key)\n",
        "earnings_r = requests.get(base_url + earnings + '&symbol=' + tckr + '&apikey=' + key)\n",
        "earnings_cal_r = requests.get(base_url + income + '&symbol=' + tckr + '&horizon=' + horizon + '&apikey=' + key)\n",
        "\n",
        "  \n",
        "# check status code for response received\n",
        "# success code - 200\n",
        "print(overview_r)\n",
        "print(tsd_r)\n",
        "print(income_r)\n",
        "print(balance_r)\n",
        "print(cf_r)\n",
        "print(earnings_r)\n",
        "print(earnings_cal_r)\n",
        "  \n",
        "# print content of request\n",
        "#print(r.content)"
      ],
      "metadata": {
        "colab": {
          "base_uri": "https://localhost:8080/"
        },
        "id": "xCqCxnlXHzSA",
        "outputId": "c4f56faa-83be-4cca-876d-a5c2d5ee7829"
      },
      "execution_count": 54,
      "outputs": [
        {
          "output_type": "stream",
          "name": "stdout",
          "text": [
            "<Response [200]>\n",
            "<Response [200]>\n",
            "<Response [200]>\n",
            "<Response [200]>\n",
            "<Response [200]>\n",
            "<Response [200]>\n",
            "<Response [200]>\n"
          ]
        }
      ]
    },
    {
      "cell_type": "markdown",
      "source": [
        "###Company Overview"
      ],
      "metadata": {
        "id": "rK7rjMC3h8N3"
      }
    },
    {
      "cell_type": "code",
      "source": [
        "comp_info = pd.DataFrame(overview_r.json(), index=[1])\n",
        "\n",
        "#len(r2.json())\n",
        "\n",
        "comp_info.info()\n",
        "\n",
        "#comp_info.head()\n",
        "#comp_info"
      ],
      "metadata": {
        "colab": {
          "base_uri": "https://localhost:8080/"
        },
        "id": "ialbFlF9h-yK",
        "outputId": "985a2950-d3c6-41ac-a4e1-92f248f6485c"
      },
      "execution_count": 55,
      "outputs": [
        {
          "output_type": "stream",
          "name": "stdout",
          "text": [
            "<class 'pandas.core.frame.DataFrame'>\n",
            "Int64Index: 1 entries, 1 to 1\n",
            "Data columns (total 46 columns):\n",
            " #   Column                      Non-Null Count  Dtype \n",
            "---  ------                      --------------  ----- \n",
            " 0   Symbol                      1 non-null      object\n",
            " 1   AssetType                   1 non-null      object\n",
            " 2   Name                        1 non-null      object\n",
            " 3   Description                 1 non-null      object\n",
            " 4   CIK                         1 non-null      object\n",
            " 5   Exchange                    1 non-null      object\n",
            " 6   Currency                    1 non-null      object\n",
            " 7   Country                     1 non-null      object\n",
            " 8   Sector                      1 non-null      object\n",
            " 9   Industry                    1 non-null      object\n",
            " 10  Address                     1 non-null      object\n",
            " 11  FiscalYearEnd               1 non-null      object\n",
            " 12  LatestQuarter               1 non-null      object\n",
            " 13  MarketCapitalization        1 non-null      object\n",
            " 14  EBITDA                      1 non-null      object\n",
            " 15  PERatio                     1 non-null      object\n",
            " 16  PEGRatio                    1 non-null      object\n",
            " 17  BookValue                   1 non-null      object\n",
            " 18  DividendPerShare            1 non-null      object\n",
            " 19  DividendYield               1 non-null      object\n",
            " 20  EPS                         1 non-null      object\n",
            " 21  RevenuePerShareTTM          1 non-null      object\n",
            " 22  ProfitMargin                1 non-null      object\n",
            " 23  OperatingMarginTTM          1 non-null      object\n",
            " 24  ReturnOnAssetsTTM           1 non-null      object\n",
            " 25  ReturnOnEquityTTM           1 non-null      object\n",
            " 26  RevenueTTM                  1 non-null      object\n",
            " 27  GrossProfitTTM              1 non-null      object\n",
            " 28  DilutedEPSTTM               1 non-null      object\n",
            " 29  QuarterlyEarningsGrowthYOY  1 non-null      object\n",
            " 30  QuarterlyRevenueGrowthYOY   1 non-null      object\n",
            " 31  AnalystTargetPrice          1 non-null      object\n",
            " 32  TrailingPE                  1 non-null      object\n",
            " 33  ForwardPE                   1 non-null      object\n",
            " 34  PriceToSalesRatioTTM        1 non-null      object\n",
            " 35  PriceToBookRatio            1 non-null      object\n",
            " 36  EVToRevenue                 1 non-null      object\n",
            " 37  EVToEBITDA                  1 non-null      object\n",
            " 38  Beta                        1 non-null      object\n",
            " 39  52WeekHigh                  1 non-null      object\n",
            " 40  52WeekLow                   1 non-null      object\n",
            " 41  50DayMovingAverage          1 non-null      object\n",
            " 42  200DayMovingAverage         1 non-null      object\n",
            " 43  SharesOutstanding           1 non-null      object\n",
            " 44  DividendDate                1 non-null      object\n",
            " 45  ExDividendDate              1 non-null      object\n",
            "dtypes: object(46)\n",
            "memory usage: 376.0+ bytes\n"
          ]
        }
      ]
    },
    {
      "cell_type": "markdown",
      "source": [
        "###Time Series Data"
      ],
      "metadata": {
        "id": "siBPBLpPh1uJ"
      }
    },
    {
      "cell_type": "code",
      "source": [
        "#today = date.today()\n",
        "#tm = datetime.min.time()\n",
        "\n",
        "#dttm = datetime.combine(today, tm)\n",
        "#print(type(today))\n",
        "\n",
        "dttm_now = datetime.now()\n",
        "\n",
        "hist_dt = dttm_now - timedelta(days=3653)\n",
        "\n",
        "print('10 years ago dt:', str(hist_dt))"
      ],
      "metadata": {
        "id": "Ewlpa4eMNQNn",
        "colab": {
          "base_uri": "https://localhost:8080/"
        },
        "outputId": "25196cc6-1c0e-452d-95b2-5da33791d649"
      },
      "execution_count": 10,
      "outputs": [
        {
          "output_type": "stream",
          "name": "stdout",
          "text": [
            "10 years ago dt: 2013-01-28 19:05:35.746154\n"
          ]
        }
      ]
    },
    {
      "cell_type": "code",
      "source": [
        "df = pd.DataFrame(tsd_r.json())\n",
        "\n",
        "df.drop(columns=['Meta Data'], inplace=True)\n",
        "\n",
        "df = df.iloc[5:]\n",
        "\n",
        "df = df.set_index(pd.to_datetime(df.index))\n",
        "\n",
        "df = df[(df.index >= hist_dt) & (df.index <= dttm)]\n",
        "\n",
        "#df.tail(20)"
      ],
      "metadata": {
        "id": "OqgCV9yXMD4U"
      },
      "execution_count": 56,
      "outputs": []
    },
    {
      "cell_type": "code",
      "source": [
        "df.info()"
      ],
      "metadata": {
        "colab": {
          "base_uri": "https://localhost:8080/"
        },
        "id": "I_Uo_j0uPQSq",
        "outputId": "60a3075b-4a9a-4d01-c3d3-c4a529a33c44"
      },
      "execution_count": 57,
      "outputs": [
        {
          "output_type": "stream",
          "name": "stdout",
          "text": [
            "<class 'pandas.core.frame.DataFrame'>\n",
            "DatetimeIndex: 2518 entries, 2023-01-27 to 2013-01-29\n",
            "Data columns (total 1 columns):\n",
            " #   Column               Non-Null Count  Dtype \n",
            "---  ------               --------------  ----- \n",
            " 0   Time Series (Daily)  2518 non-null   object\n",
            "dtypes: object(1)\n",
            "memory usage: 39.3+ KB\n"
          ]
        }
      ]
    },
    {
      "cell_type": "code",
      "source": [
        "df_ = pd.concat([df.drop(['Time Series (Daily)'], axis=1), df['Time Series (Daily)'].apply(pd.Series)], axis=1)\n",
        "\n",
        "df_.rename(columns={'1. open': 'open', '2. high': 'high', '3. low': 'low', '4. close': 'close', '5. adjusted close': 'adj_close', '6. volume': 'volume', '7. dividend amount': 'div_amt', '8. split coefficient': 'split_coef'}, inplace=True)\n",
        "\n",
        "df_.head()"
      ],
      "metadata": {
        "colab": {
          "base_uri": "https://localhost:8080/",
          "height": 197
        },
        "id": "NwaqoXQeM14D",
        "outputId": "e7b4e06c-7149-4ada-c8b2-75d5e4523883"
      },
      "execution_count": 58,
      "outputs": [
        {
          "output_type": "execute_result",
          "data": {
            "text/plain": [
              "              open      high       low   close adj_close   volume div_amt  \\\n",
              "2023-01-27  487.99    497.93    482.57  482.88    482.88  1711583  0.0000   \n",
              "2023-01-26  484.75    498.66  474.0014  497.75    497.75  2465780  0.0000   \n",
              "2023-01-25  472.19    491.39     467.0   488.4     488.4  1769701  0.0000   \n",
              "2023-01-24  485.21  491.7199    483.87   487.5     487.5   972308  0.0000   \n",
              "2023-01-23   474.8    498.84    472.39  490.78    490.78  1654504  0.0000   \n",
              "\n",
              "           split_coef  \n",
              "2023-01-27        1.0  \n",
              "2023-01-26        1.0  \n",
              "2023-01-25        1.0  \n",
              "2023-01-24        1.0  \n",
              "2023-01-23        1.0  "
            ],
            "text/html": [
              "\n",
              "  <div id=\"df-e70f8adf-2c46-47d9-b4e8-cbd4712d7d1e\">\n",
              "    <div class=\"colab-df-container\">\n",
              "      <div>\n",
              "<style scoped>\n",
              "    .dataframe tbody tr th:only-of-type {\n",
              "        vertical-align: middle;\n",
              "    }\n",
              "\n",
              "    .dataframe tbody tr th {\n",
              "        vertical-align: top;\n",
              "    }\n",
              "\n",
              "    .dataframe thead th {\n",
              "        text-align: right;\n",
              "    }\n",
              "</style>\n",
              "<table border=\"1\" class=\"dataframe\">\n",
              "  <thead>\n",
              "    <tr style=\"text-align: right;\">\n",
              "      <th></th>\n",
              "      <th>open</th>\n",
              "      <th>high</th>\n",
              "      <th>low</th>\n",
              "      <th>close</th>\n",
              "      <th>adj_close</th>\n",
              "      <th>volume</th>\n",
              "      <th>div_amt</th>\n",
              "      <th>split_coef</th>\n",
              "    </tr>\n",
              "  </thead>\n",
              "  <tbody>\n",
              "    <tr>\n",
              "      <th>2023-01-27</th>\n",
              "      <td>487.99</td>\n",
              "      <td>497.93</td>\n",
              "      <td>482.57</td>\n",
              "      <td>482.88</td>\n",
              "      <td>482.88</td>\n",
              "      <td>1711583</td>\n",
              "      <td>0.0000</td>\n",
              "      <td>1.0</td>\n",
              "    </tr>\n",
              "    <tr>\n",
              "      <th>2023-01-26</th>\n",
              "      <td>484.75</td>\n",
              "      <td>498.66</td>\n",
              "      <td>474.0014</td>\n",
              "      <td>497.75</td>\n",
              "      <td>497.75</td>\n",
              "      <td>2465780</td>\n",
              "      <td>0.0000</td>\n",
              "      <td>1.0</td>\n",
              "    </tr>\n",
              "    <tr>\n",
              "      <th>2023-01-25</th>\n",
              "      <td>472.19</td>\n",
              "      <td>491.39</td>\n",
              "      <td>467.0</td>\n",
              "      <td>488.4</td>\n",
              "      <td>488.4</td>\n",
              "      <td>1769701</td>\n",
              "      <td>0.0000</td>\n",
              "      <td>1.0</td>\n",
              "    </tr>\n",
              "    <tr>\n",
              "      <th>2023-01-24</th>\n",
              "      <td>485.21</td>\n",
              "      <td>491.7199</td>\n",
              "      <td>483.87</td>\n",
              "      <td>487.5</td>\n",
              "      <td>487.5</td>\n",
              "      <td>972308</td>\n",
              "      <td>0.0000</td>\n",
              "      <td>1.0</td>\n",
              "    </tr>\n",
              "    <tr>\n",
              "      <th>2023-01-23</th>\n",
              "      <td>474.8</td>\n",
              "      <td>498.84</td>\n",
              "      <td>472.39</td>\n",
              "      <td>490.78</td>\n",
              "      <td>490.78</td>\n",
              "      <td>1654504</td>\n",
              "      <td>0.0000</td>\n",
              "      <td>1.0</td>\n",
              "    </tr>\n",
              "  </tbody>\n",
              "</table>\n",
              "</div>\n",
              "      <button class=\"colab-df-convert\" onclick=\"convertToInteractive('df-e70f8adf-2c46-47d9-b4e8-cbd4712d7d1e')\"\n",
              "              title=\"Convert this dataframe to an interactive table.\"\n",
              "              style=\"display:none;\">\n",
              "        \n",
              "  <svg xmlns=\"http://www.w3.org/2000/svg\" height=\"24px\"viewBox=\"0 0 24 24\"\n",
              "       width=\"24px\">\n",
              "    <path d=\"M0 0h24v24H0V0z\" fill=\"none\"/>\n",
              "    <path d=\"M18.56 5.44l.94 2.06.94-2.06 2.06-.94-2.06-.94-.94-2.06-.94 2.06-2.06.94zm-11 1L8.5 8.5l.94-2.06 2.06-.94-2.06-.94L8.5 2.5l-.94 2.06-2.06.94zm10 10l.94 2.06.94-2.06 2.06-.94-2.06-.94-.94-2.06-.94 2.06-2.06.94z\"/><path d=\"M17.41 7.96l-1.37-1.37c-.4-.4-.92-.59-1.43-.59-.52 0-1.04.2-1.43.59L10.3 9.45l-7.72 7.72c-.78.78-.78 2.05 0 2.83L4 21.41c.39.39.9.59 1.41.59.51 0 1.02-.2 1.41-.59l7.78-7.78 2.81-2.81c.8-.78.8-2.07 0-2.86zM5.41 20L4 18.59l7.72-7.72 1.47 1.35L5.41 20z\"/>\n",
              "  </svg>\n",
              "      </button>\n",
              "      \n",
              "  <style>\n",
              "    .colab-df-container {\n",
              "      display:flex;\n",
              "      flex-wrap:wrap;\n",
              "      gap: 12px;\n",
              "    }\n",
              "\n",
              "    .colab-df-convert {\n",
              "      background-color: #E8F0FE;\n",
              "      border: none;\n",
              "      border-radius: 50%;\n",
              "      cursor: pointer;\n",
              "      display: none;\n",
              "      fill: #1967D2;\n",
              "      height: 32px;\n",
              "      padding: 0 0 0 0;\n",
              "      width: 32px;\n",
              "    }\n",
              "\n",
              "    .colab-df-convert:hover {\n",
              "      background-color: #E2EBFA;\n",
              "      box-shadow: 0px 1px 2px rgba(60, 64, 67, 0.3), 0px 1px 3px 1px rgba(60, 64, 67, 0.15);\n",
              "      fill: #174EA6;\n",
              "    }\n",
              "\n",
              "    [theme=dark] .colab-df-convert {\n",
              "      background-color: #3B4455;\n",
              "      fill: #D2E3FC;\n",
              "    }\n",
              "\n",
              "    [theme=dark] .colab-df-convert:hover {\n",
              "      background-color: #434B5C;\n",
              "      box-shadow: 0px 1px 3px 1px rgba(0, 0, 0, 0.15);\n",
              "      filter: drop-shadow(0px 1px 2px rgba(0, 0, 0, 0.3));\n",
              "      fill: #FFFFFF;\n",
              "    }\n",
              "  </style>\n",
              "\n",
              "      <script>\n",
              "        const buttonEl =\n",
              "          document.querySelector('#df-e70f8adf-2c46-47d9-b4e8-cbd4712d7d1e button.colab-df-convert');\n",
              "        buttonEl.style.display =\n",
              "          google.colab.kernel.accessAllowed ? 'block' : 'none';\n",
              "\n",
              "        async function convertToInteractive(key) {\n",
              "          const element = document.querySelector('#df-e70f8adf-2c46-47d9-b4e8-cbd4712d7d1e');\n",
              "          const dataTable =\n",
              "            await google.colab.kernel.invokeFunction('convertToInteractive',\n",
              "                                                     [key], {});\n",
              "          if (!dataTable) return;\n",
              "\n",
              "          const docLinkHtml = 'Like what you see? Visit the ' +\n",
              "            '<a target=\"_blank\" href=https://colab.research.google.com/notebooks/data_table.ipynb>data table notebook</a>'\n",
              "            + ' to learn more about interactive tables.';\n",
              "          element.innerHTML = '';\n",
              "          dataTable['output_type'] = 'display_data';\n",
              "          await google.colab.output.renderOutput(dataTable, element);\n",
              "          const docLink = document.createElement('div');\n",
              "          docLink.innerHTML = docLinkHtml;\n",
              "          element.appendChild(docLink);\n",
              "        }\n",
              "      </script>\n",
              "    </div>\n",
              "  </div>\n",
              "  "
            ],
            "application/vnd.google.colaboratory.module+javascript": "\n      import \"https://ssl.gstatic.com/colaboratory/data_table/fb998edc550c7947/data_table.js\";\n\n      window.createDataTable({\n        data: [[\"2023-01-27 00:00:00\",\n\"487.99\",\n\"497.93\",\n\"482.57\",\n\"482.88\",\n\"482.88\",\n\"1711583\",\n\"0.0000\",\n\"1.0\"],\n [\"2023-01-26 00:00:00\",\n\"484.75\",\n\"498.66\",\n\"474.0014\",\n\"497.75\",\n\"497.75\",\n\"2465780\",\n\"0.0000\",\n\"1.0\"],\n [\"2023-01-25 00:00:00\",\n\"472.19\",\n\"491.39\",\n\"467.0\",\n\"488.4\",\n\"488.4\",\n\"1769701\",\n\"0.0000\",\n\"1.0\"],\n [\"2023-01-24 00:00:00\",\n\"485.21\",\n\"491.7199\",\n\"483.87\",\n\"487.5\",\n\"487.5\",\n\"972308\",\n\"0.0000\",\n\"1.0\"],\n [\"2023-01-23 00:00:00\",\n\"474.8\",\n\"498.84\",\n\"472.39\",\n\"490.78\",\n\"490.78\",\n\"1654504\",\n\"0.0000\",\n\"1.0\"]],\n        columns: [[\"string\", \"index\"], [\"string\", \"open\"], [\"string\", \"high\"], [\"string\", \"low\"], [\"string\", \"close\"], [\"string\", \"adj_close\"], [\"string\", \"volume\"], [\"string\", \"div_amt\"], [\"string\", \"split_coef\"]],\n        columnOptions: [{\"width\": \"1px\", \"className\": \"index_column\"}],\n        rowsPerPage: 25,\n        helpUrl: \"https://colab.research.google.com/notebooks/data_table.ipynb\",\n        suppressOutputScrolling: true,\n        minimumWidth: undefined,\n      });\n    "
          },
          "metadata": {},
          "execution_count": 58
        }
      ]
    },
    {
      "cell_type": "code",
      "source": [
        "df_.info()"
      ],
      "metadata": {
        "colab": {
          "base_uri": "https://localhost:8080/"
        },
        "id": "_ikzs-sGPjKp",
        "outputId": "f2476fa1-08a3-4aa3-d7c7-86e47223fef5"
      },
      "execution_count": 59,
      "outputs": [
        {
          "output_type": "stream",
          "name": "stdout",
          "text": [
            "<class 'pandas.core.frame.DataFrame'>\n",
            "DatetimeIndex: 2518 entries, 2023-01-27 to 2013-01-29\n",
            "Data columns (total 8 columns):\n",
            " #   Column      Non-Null Count  Dtype \n",
            "---  ------      --------------  ----- \n",
            " 0   open        2518 non-null   object\n",
            " 1   high        2518 non-null   object\n",
            " 2   low         2518 non-null   object\n",
            " 3   close       2518 non-null   object\n",
            " 4   adj_close   2518 non-null   object\n",
            " 5   volume      2518 non-null   object\n",
            " 6   div_amt     2518 non-null   object\n",
            " 7   split_coef  2518 non-null   object\n",
            "dtypes: object(8)\n",
            "memory usage: 177.0+ KB\n"
          ]
        }
      ]
    },
    {
      "cell_type": "code",
      "source": [
        "#df_['4. close'] = df_['4. close'].astype('float')\n",
        "\n",
        "cols_type = {'open': float, 'high': float, 'low': float, 'close': float, 'adj_close': float, 'volume': int, 'div_amt': float, 'split_coef': float}\n",
        "   \n",
        "df_ = df_.astype(cols_type)\n",
        "\n",
        "df_.info()"
      ],
      "metadata": {
        "id": "YN3Nn5EGP7zm",
        "colab": {
          "base_uri": "https://localhost:8080/"
        },
        "outputId": "a399fe78-7a6b-4431-fbad-587f3046f338"
      },
      "execution_count": 60,
      "outputs": [
        {
          "output_type": "stream",
          "name": "stdout",
          "text": [
            "<class 'pandas.core.frame.DataFrame'>\n",
            "DatetimeIndex: 2518 entries, 2023-01-27 to 2013-01-29\n",
            "Data columns (total 8 columns):\n",
            " #   Column      Non-Null Count  Dtype  \n",
            "---  ------      --------------  -----  \n",
            " 0   open        2518 non-null   float64\n",
            " 1   high        2518 non-null   float64\n",
            " 2   low         2518 non-null   float64\n",
            " 3   close       2518 non-null   float64\n",
            " 4   adj_close   2518 non-null   float64\n",
            " 5   volume      2518 non-null   int64  \n",
            " 6   div_amt     2518 non-null   float64\n",
            " 7   split_coef  2518 non-null   float64\n",
            "dtypes: float64(7), int64(1)\n",
            "memory usage: 177.0 KB\n"
          ]
        }
      ]
    },
    {
      "cell_type": "code",
      "source": [
        "df_.plot.line(y='close')"
      ],
      "metadata": {
        "colab": {
          "base_uri": "https://localhost:8080/",
          "height": 272
        },
        "id": "00tnLSsiOqAa",
        "outputId": "78cd4b20-8b69-4854-cce0-870330f9db73"
      },
      "execution_count": 61,
      "outputs": [
        {
          "output_type": "execute_result",
          "data": {
            "text/plain": [
              "<matplotlib.axes._subplots.AxesSubplot at 0x7f5798128520>"
            ]
          },
          "metadata": {},
          "execution_count": 61
        },
        {
          "output_type": "display_data",
          "data": {
            "text/plain": [
              "<Figure size 432x288 with 1 Axes>"
            ],
            "image/png": "[encoded data removed]"
          },
          "metadata": {
            "needs_background": "light"
          }
        }
      ]
    },
    {
      "cell_type": "code",
      "source": [
        "df_['div_amt'].sum()"
      ],
      "metadata": {
        "colab": {
          "base_uri": "https://localhost:8080/"
        },
        "id": "H2nzNdEhPbc5",
        "outputId": "41f40eca-a760-4f5b-9de0-4ffd857d5303"
      },
      "execution_count": 62,
      "outputs": [
        {
          "output_type": "execute_result",
          "data": {
            "text/plain": [
              "30.07"
            ]
          },
          "metadata": {},
          "execution_count": 62
        }
      ]
    },
    {
      "cell_type": "code",
      "source": [
        "#plot individual lines with custom colors, styles, and widths\n",
        "plt.plot(df_['close'], label='close', color='green')\n",
        "plt.plot(df_['adj_close'], label='adj_close', color='steelblue')\n",
        "\n",
        "#add legend\n",
        "plt.legend()\n",
        "\n",
        "#add axis labels and a title\n",
        "plt.ylabel('closing prices', fontsize=14)\n",
        "#plt.xlabel('Period', fontsize=14)\n",
        "plt.title('Company Metrics', fontsize=16)\n",
        "\n",
        "#display plot\n",
        "plt.show()"
      ],
      "metadata": {
        "id": "xDVP0SPkQNs5",
        "colab": {
          "base_uri": "https://localhost:8080/",
          "height": 283
        },
        "outputId": "8ad99cae-d43a-44f1-ca6c-2745ada55760"
      },
      "execution_count": 63,
      "outputs": [
        {
          "output_type": "display_data",
          "data": {
            "text/plain": [
              "<Figure size 432x288 with 1 Axes>"
            ],
            "image/png": "[encoded data removed]"
          },
          "metadata": {
            "needs_background": "light"
          }
        }
      ]
    },
    {
      "cell_type": "markdown",
      "source": [
        "Annualized Total Return = ((absolute value of capital gain + dividends) + 1)^(1 / years) - 1\n"
      ],
      "metadata": {
        "id": "jW-TvnCfBDj1"
      }
    },
    {
      "cell_type": "markdown",
      "source": [
        "###Financial Reporting - Income Statement, Balance Sheet & Cash Flow Statement"
      ],
      "metadata": {
        "id": "FPaVNTlCiJ64"
      }
    },
    {
      "cell_type": "code",
      "source": [
        "annual_inc = pd.DataFrame(income_r.json()['annualReports'])\n",
        "annual_inc\n",
        "\n",
        "quarterly_inc = pd.DataFrame(income_r.json()['quarterlyReports'])\n",
        "\n",
        "quarterly_inc.info()"
      ],
      "metadata": {
        "colab": {
          "base_uri": "https://localhost:8080/"
        },
        "id": "r2VOsRJZiNce",
        "outputId": "2d66d6c9-5023-488a-dc85-3b13e23294ae"
      },
      "execution_count": 71,
      "outputs": [
        {
          "output_type": "stream",
          "name": "stdout",
          "text": [
            "<class 'pandas.core.frame.DataFrame'>\n",
            "RangeIndex: 20 entries, 0 to 19\n",
            "Data columns (total 26 columns):\n",
            " #   Column                             Non-Null Count  Dtype \n",
            "---  ------                             --------------  ----- \n",
            " 0   fiscalDateEnding                   20 non-null     object\n",
            " 1   reportedCurrency                   20 non-null     object\n",
            " 2   grossProfit                        20 non-null     object\n",
            " 3   totalRevenue                       20 non-null     object\n",
            " 4   costOfRevenue                      20 non-null     object\n",
            " 5   costofGoodsAndServicesSold         20 non-null     object\n",
            " 6   operatingIncome                    20 non-null     object\n",
            " 7   sellingGeneralAndAdministrative    20 non-null     object\n",
            " 8   researchAndDevelopment             20 non-null     object\n",
            " 9   operatingExpenses                  20 non-null     object\n",
            " 10  investmentIncomeNet                20 non-null     object\n",
            " 11  netInterestIncome                  20 non-null     object\n",
            " 12  interestIncome                     20 non-null     object\n",
            " 13  interestExpense                    20 non-null     object\n",
            " 14  nonInterestIncome                  20 non-null     object\n",
            " 15  otherNonOperatingIncome            20 non-null     object\n",
            " 16  depreciation                       20 non-null     object\n",
            " 17  depreciationAndAmortization        20 non-null     object\n",
            " 18  incomeBeforeTax                    20 non-null     object\n",
            " 19  incomeTaxExpense                   20 non-null     object\n",
            " 20  interestAndDebtExpense             20 non-null     object\n",
            " 21  netIncomeFromContinuingOperations  20 non-null     object\n",
            " 22  comprehensiveIncomeNetOfTax        20 non-null     object\n",
            " 23  ebit                               20 non-null     object\n",
            " 24  ebitda                             20 non-null     object\n",
            " 25  netIncome                          20 non-null     object\n",
            "dtypes: object(26)\n",
            "memory usage: 4.2+ KB\n"
          ]
        }
      ]
    },
    {
      "cell_type": "code",
      "source": [
        "annual_balance = pd.DataFrame(balance_r.json()['annualReports'])\n",
        "quarterly_balance = pd.DataFrame(balance_r.json()['quarterlyReports'])\n",
        "\n",
        "quarterly_balance.info()"
      ],
      "metadata": {
        "colab": {
          "base_uri": "https://localhost:8080/"
        },
        "id": "ghtJTbrGmhBz",
        "outputId": "6127121f-0dfc-44bb-8c89-12a1e974904c"
      },
      "execution_count": 73,
      "outputs": [
        {
          "output_type": "stream",
          "name": "stdout",
          "text": [
            "<class 'pandas.core.frame.DataFrame'>\n",
            "RangeIndex: 20 entries, 0 to 19\n",
            "Data columns (total 38 columns):\n",
            " #   Column                                  Non-Null Count  Dtype \n",
            "---  ------                                  --------------  ----- \n",
            " 0   fiscalDateEnding                        20 non-null     object\n",
            " 1   reportedCurrency                        20 non-null     object\n",
            " 2   totalAssets                             20 non-null     object\n",
            " 3   totalCurrentAssets                      20 non-null     object\n",
            " 4   cashAndCashEquivalentsAtCarryingValue   20 non-null     object\n",
            " 5   cashAndShortTermInvestments             20 non-null     object\n",
            " 6   inventory                               20 non-null     object\n",
            " 7   currentNetReceivables                   20 non-null     object\n",
            " 8   totalNonCurrentAssets                   20 non-null     object\n",
            " 9   propertyPlantEquipment                  20 non-null     object\n",
            " 10  accumulatedDepreciationAmortizationPPE  20 non-null     object\n",
            " 11  intangibleAssets                        20 non-null     object\n",
            " 12  intangibleAssetsExcludingGoodwill       20 non-null     object\n",
            " 13  goodwill                                20 non-null     object\n",
            " 14  investments                             20 non-null     object\n",
            " 15  longTermInvestments                     20 non-null     object\n",
            " 16  shortTermInvestments                    20 non-null     object\n",
            " 17  otherCurrentAssets                      20 non-null     object\n",
            " 18  otherNonCurrentAssets                   20 non-null     object\n",
            " 19  totalLiabilities                        20 non-null     object\n",
            " 20  totalCurrentLiabilities                 20 non-null     object\n",
            " 21  currentAccountsPayable                  20 non-null     object\n",
            " 22  deferredRevenue                         20 non-null     object\n",
            " 23  currentDebt                             20 non-null     object\n",
            " 24  shortTermDebt                           20 non-null     object\n",
            " 25  totalNonCurrentLiabilities              20 non-null     object\n",
            " 26  capitalLeaseObligations                 20 non-null     object\n",
            " 27  longTermDebt                            20 non-null     object\n",
            " 28  currentLongTermDebt                     20 non-null     object\n",
            " 29  longTermDebtNoncurrent                  20 non-null     object\n",
            " 30  shortLongTermDebtTotal                  20 non-null     object\n",
            " 31  otherCurrentLiabilities                 20 non-null     object\n",
            " 32  otherNonCurrentLiabilities              20 non-null     object\n",
            " 33  totalShareholderEquity                  20 non-null     object\n",
            " 34  treasuryStock                           20 non-null     object\n",
            " 35  retainedEarnings                        20 non-null     object\n",
            " 36  commonStock                             20 non-null     object\n",
            " 37  commonStockSharesOutstanding            20 non-null     object\n",
            "dtypes: object(38)\n",
            "memory usage: 6.1+ KB\n"
          ]
        }
      ]
    },
    {
      "cell_type": "code",
      "source": [
        "annual_cf = pd.DataFrame(cf_r.json()['annualReports'])\n",
        "quarterly_cf = pd.DataFrame(cf_r.json()['quarterlyReports'])\n",
        "\n",
        "quarterly_cf.info()"
      ],
      "metadata": {
        "colab": {
          "base_uri": "https://localhost:8080/"
        },
        "id": "I-jyF0Utqplu",
        "outputId": "d0272146-89bc-4835-d0b0-ef367b9a04c4"
      },
      "execution_count": 75,
      "outputs": [
        {
          "output_type": "stream",
          "name": "stdout",
          "text": [
            "<class 'pandas.core.frame.DataFrame'>\n",
            "RangeIndex: 20 entries, 0 to 19\n",
            "Data columns (total 29 columns):\n",
            " #   Column                                                     Non-Null Count  Dtype \n",
            "---  ------                                                     --------------  ----- \n",
            " 0   fiscalDateEnding                                           20 non-null     object\n",
            " 1   reportedCurrency                                           20 non-null     object\n",
            " 2   operatingCashflow                                          20 non-null     object\n",
            " 3   paymentsForOperatingActivities                             20 non-null     object\n",
            " 4   proceedsFromOperatingActivities                            20 non-null     object\n",
            " 5   changeInOperatingLiabilities                               20 non-null     object\n",
            " 6   changeInOperatingAssets                                    20 non-null     object\n",
            " 7   depreciationDepletionAndAmortization                       20 non-null     object\n",
            " 8   capitalExpenditures                                        20 non-null     object\n",
            " 9   changeInReceivables                                        20 non-null     object\n",
            " 10  changeInInventory                                          20 non-null     object\n",
            " 11  profitLoss                                                 20 non-null     object\n",
            " 12  cashflowFromInvestment                                     20 non-null     object\n",
            " 13  cashflowFromFinancing                                      20 non-null     object\n",
            " 14  proceedsFromRepaymentsOfShortTermDebt                      20 non-null     object\n",
            " 15  paymentsForRepurchaseOfCommonStock                         20 non-null     object\n",
            " 16  paymentsForRepurchaseOfEquity                              20 non-null     object\n",
            " 17  paymentsForRepurchaseOfPreferredStock                      20 non-null     object\n",
            " 18  dividendPayout                                             20 non-null     object\n",
            " 19  dividendPayoutCommonStock                                  20 non-null     object\n",
            " 20  dividendPayoutPreferredStock                               20 non-null     object\n",
            " 21  proceedsFromIssuanceOfCommonStock                          20 non-null     object\n",
            " 22  proceedsFromIssuanceOfLongTermDebtAndCapitalSecuritiesNet  20 non-null     object\n",
            " 23  proceedsFromIssuanceOfPreferredStock                       20 non-null     object\n",
            " 24  proceedsFromRepurchaseOfEquity                             20 non-null     object\n",
            " 25  proceedsFromSaleOfTreasuryStock                            20 non-null     object\n",
            " 26  changeInCashAndCashEquivalents                             20 non-null     object\n",
            " 27  changeInExchangeRate                                       20 non-null     object\n",
            " 28  netIncome                                                  20 non-null     object\n",
            "dtypes: object(29)\n",
            "memory usage: 4.7+ KB\n"
          ]
        }
      ]
    },
    {
      "cell_type": "markdown",
      "source": [
        "### Earnings and Earnings Calendar"
      ],
      "metadata": {
        "id": "6rvmJ0mojLNr"
      }
    },
    {
      "cell_type": "code",
      "source": [],
      "metadata": {
        "id": "AcGUGx8HjNyO"
      },
      "execution_count": 76,
      "outputs": []
    },
    {
      "cell_type": "code",
      "source": [],
      "metadata": {
        "id": "DG4Vn1cprMAw"
      },
      "execution_count": null,
      "outputs": []
    }
  ]
}